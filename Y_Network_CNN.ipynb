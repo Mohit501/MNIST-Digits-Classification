{
  "nbformat": 4,
  "nbformat_minor": 0,
  "metadata": {
    "colab": {
      "name": "Y-Network CNN",
      "provenance": [],
      "authorship_tag": "ABX9TyO1mS4rZdDtZWSh6GKvcVi+",
      "include_colab_link": true
    },
    "kernelspec": {
      "name": "python3",
      "display_name": "Python 3"
    },
    "accelerator": "GPU"
  },
  "cells": [
    {
      "cell_type": "markdown",
      "metadata": {
        "id": "view-in-github",
        "colab_type": "text"
      },
      "source": [
        "<a href=\"https://colab.research.google.com/github/Mohit501/MNIST-Digits-Classification/blob/main/Y_Network_CNN.ipynb\" target=\"_parent\"><img src=\"https://colab.research.google.com/assets/colab-badge.svg\" alt=\"Open In Colab\"/></a>"
      ]
    },
    {
      "cell_type": "markdown",
      "metadata": {
        "id": "4uxvCcr0s0JI"
      },
      "source": [
        "# **Loading Required Libraries**"
      ]
    },
    {
      "cell_type": "code",
      "metadata": {
        "id": "Eb-bkt1xsg6_"
      },
      "source": [
        "import numpy as np\r\n",
        "from tensorflow import keras \r\n",
        "from keras.models import Model\r\n",
        "from keras.layers import Dense,Conv2D,MaxPooling2D,Flatten,Dropout,Input\r\n",
        "from keras.utils import to_categorical,plot_model\r\n",
        "from keras.layers.merge import concatenate\r\n",
        "from keras.datasets import mnist"
      ],
      "execution_count": null,
      "outputs": []
    },
    {
      "cell_type": "markdown",
      "metadata": {
        "id": "yucaFGPPtv-M"
      },
      "source": [
        "# **Loading Data**"
      ]
    },
    {
      "cell_type": "code",
      "metadata": {
        "id": "uqy8pRKCtiPq"
      },
      "source": [
        "(X_train,y_train),(X_test,y_test) = mnist.load_data()"
      ],
      "execution_count": null,
      "outputs": []
    },
    {
      "cell_type": "code",
      "metadata": {
        "id": "lDw-1J4Tt1is"
      },
      "source": [
        "num_labels = len(np.unique(y_train))"
      ],
      "execution_count": null,
      "outputs": []
    },
    {
      "cell_type": "markdown",
      "metadata": {
        "id": "pEShWiX9t8Tw"
      },
      "source": [
        "# **PreProcessing**"
      ]
    },
    {
      "cell_type": "code",
      "metadata": {
        "id": "EPJEvmuAt7Dw"
      },
      "source": [
        "y_train = to_categorical(y_train)\r\n",
        "y_test = to_categorical(y_test)"
      ],
      "execution_count": null,
      "outputs": []
    },
    {
      "cell_type": "markdown",
      "metadata": {
        "id": "P7o5XVcuuGuu"
      },
      "source": [
        "**Reshaping and Normalizing input images**"
      ]
    },
    {
      "cell_type": "code",
      "metadata": {
        "id": "YH1DcwhcuEXf"
      },
      "source": [
        "image_size = X_train.shape[1]\r\n",
        "x_train = np.reshape(X_train,[-1,image_size,image_size,1])\r\n",
        "x_train = x_train.astype('float32')/255.0\r\n",
        "x_test = np.reshape(X_test,[-1,image_size,image_size,1])\r\n",
        "x_test = x_test.astype('float32')/255.0"
      ],
      "execution_count": null,
      "outputs": []
    },
    {
      "cell_type": "markdown",
      "metadata": {
        "id": "gsrprTZwuk1u"
      },
      "source": [
        "## **Y-Network CNN**"
      ]
    },
    {
      "cell_type": "code",
      "metadata": {
        "id": "CX--XHAS4zi6"
      },
      "source": [
        "n_filters = 32\r\n",
        "input_shape = (image_size,image_size,1)"
      ],
      "execution_count": null,
      "outputs": []
    },
    {
      "cell_type": "code",
      "metadata": {
        "id": "AuWkiS5b48rg"
      },
      "source": [
        "#left branch of Y network\r\n",
        "left_inputs = Input(shape = input_shape)\r\n",
        "x = left_inputs\r\n",
        "for i in range(3):\r\n",
        "  x = Conv2D(filters=n_filters,kernel_size = 3,padding='same',activation = 'relu')(x)\r\n",
        "  x = Dropout(0.4)(x)\r\n",
        "  x = MaxPooling2D()(x)\r\n",
        "  n_filters*=2\r\n",
        "\r\n",
        "#right branch of Y network\r\n",
        "right_inputs = Input(shape = input_shape)\r\n",
        "y = right_inputs\r\n",
        "for i in range(3):\r\n",
        "  y = Conv2D(filters=n_filters,kernel_size = 3,padding='same',activation = 'relu',dilation_rate=2)(y)\r\n",
        "  y = Dropout(0.4)(y)\r\n",
        "  y = MaxPooling2D()(y)\r\n",
        "  n_filters*=2\r\n",
        "\r\n",
        "#Merging both Layers\r\n",
        "y = concatenate([x,y])\r\n",
        "y = Flatten()(y)\r\n",
        "y = Dropout(0.4)(y)\r\n",
        "outputs = Dense(num_labels,activation='softmax')(y)\r\n",
        "\r\n",
        "model = Model([left_inputs,right_inputs],outputs)\r\n"
      ],
      "execution_count": null,
      "outputs": []
    },
    {
      "cell_type": "code",
      "metadata": {
        "colab": {
          "base_uri": "https://localhost:8080/"
        },
        "id": "jMRv74s96hxS",
        "outputId": "a6604156-9d9f-41fa-e224-73d12d92088d"
      },
      "source": [
        "model.summary()"
      ],
      "execution_count": null,
      "outputs": [
        {
          "output_type": "stream",
          "text": [
            "Model: \"model\"\n",
            "__________________________________________________________________________________________________\n",
            "Layer (type)                    Output Shape         Param #     Connected to                     \n",
            "==================================================================================================\n",
            "input_1 (InputLayer)            [(None, 28, 28, 1)]  0                                            \n",
            "__________________________________________________________________________________________________\n",
            "input_2 (InputLayer)            [(None, 28, 28, 1)]  0                                            \n",
            "__________________________________________________________________________________________________\n",
            "conv2d (Conv2D)                 (None, 28, 28, 32)   320         input_1[0][0]                    \n",
            "__________________________________________________________________________________________________\n",
            "conv2d_3 (Conv2D)               (None, 28, 28, 256)  2560        input_2[0][0]                    \n",
            "__________________________________________________________________________________________________\n",
            "dropout (Dropout)               (None, 28, 28, 32)   0           conv2d[0][0]                     \n",
            "__________________________________________________________________________________________________\n",
            "dropout_3 (Dropout)             (None, 28, 28, 256)  0           conv2d_3[0][0]                   \n",
            "__________________________________________________________________________________________________\n",
            "max_pooling2d (MaxPooling2D)    (None, 14, 14, 32)   0           dropout[0][0]                    \n",
            "__________________________________________________________________________________________________\n",
            "max_pooling2d_3 (MaxPooling2D)  (None, 14, 14, 256)  0           dropout_3[0][0]                  \n",
            "__________________________________________________________________________________________________\n",
            "conv2d_1 (Conv2D)               (None, 14, 14, 64)   18496       max_pooling2d[0][0]              \n",
            "__________________________________________________________________________________________________\n",
            "conv2d_4 (Conv2D)               (None, 14, 14, 512)  1180160     max_pooling2d_3[0][0]            \n",
            "__________________________________________________________________________________________________\n",
            "dropout_1 (Dropout)             (None, 14, 14, 64)   0           conv2d_1[0][0]                   \n",
            "__________________________________________________________________________________________________\n",
            "dropout_4 (Dropout)             (None, 14, 14, 512)  0           conv2d_4[0][0]                   \n",
            "__________________________________________________________________________________________________\n",
            "max_pooling2d_1 (MaxPooling2D)  (None, 7, 7, 64)     0           dropout_1[0][0]                  \n",
            "__________________________________________________________________________________________________\n",
            "max_pooling2d_4 (MaxPooling2D)  (None, 7, 7, 512)    0           dropout_4[0][0]                  \n",
            "__________________________________________________________________________________________________\n",
            "conv2d_2 (Conv2D)               (None, 7, 7, 128)    73856       max_pooling2d_1[0][0]            \n",
            "__________________________________________________________________________________________________\n",
            "conv2d_5 (Conv2D)               (None, 7, 7, 1024)   4719616     max_pooling2d_4[0][0]            \n",
            "__________________________________________________________________________________________________\n",
            "dropout_2 (Dropout)             (None, 7, 7, 128)    0           conv2d_2[0][0]                   \n",
            "__________________________________________________________________________________________________\n",
            "dropout_5 (Dropout)             (None, 7, 7, 1024)   0           conv2d_5[0][0]                   \n",
            "__________________________________________________________________________________________________\n",
            "max_pooling2d_2 (MaxPooling2D)  (None, 3, 3, 128)    0           dropout_2[0][0]                  \n",
            "__________________________________________________________________________________________________\n",
            "max_pooling2d_5 (MaxPooling2D)  (None, 3, 3, 1024)   0           dropout_5[0][0]                  \n",
            "__________________________________________________________________________________________________\n",
            "concatenate (Concatenate)       (None, 3, 3, 1152)   0           max_pooling2d_2[0][0]            \n",
            "                                                                 max_pooling2d_5[0][0]            \n",
            "__________________________________________________________________________________________________\n",
            "flatten (Flatten)               (None, 10368)        0           concatenate[0][0]                \n",
            "__________________________________________________________________________________________________\n",
            "dropout_6 (Dropout)             (None, 10368)        0           flatten[0][0]                    \n",
            "__________________________________________________________________________________________________\n",
            "dense (Dense)                   (None, 10)           103690      dropout_6[0][0]                  \n",
            "==================================================================================================\n",
            "Total params: 6,098,698\n",
            "Trainable params: 6,098,698\n",
            "Non-trainable params: 0\n",
            "__________________________________________________________________________________________________\n"
          ],
          "name": "stdout"
        }
      ]
    },
    {
      "cell_type": "code",
      "metadata": {
        "colab": {
          "base_uri": "https://localhost:8080/",
          "height": 1000
        },
        "id": "W91xfsSC7E-r",
        "outputId": "4fc27e17-a2ab-4eb3-9189-b7cbfbe3d44e"
      },
      "source": [
        "plot_model(model)"
      ],
      "execution_count": null,
      "outputs": [
        {
          "output_type": "execute_result",
          "data": {
            "image/png": "[encoded data removed]",
            "text/plain": [
              "<IPython.core.display.Image object>"
            ]
          },
          "metadata": {
            "tags": []
          },
          "execution_count": 9
        }
      ]
    },
    {
      "cell_type": "code",
      "metadata": {
        "id": "VfFaBsCu7PWA"
      },
      "source": [
        "model.compile(optimizer='rmsprop',loss = 'categorical_crossentropy',metrics=['accuracy'])"
      ],
      "execution_count": null,
      "outputs": []
    },
    {
      "cell_type": "code",
      "metadata": {
        "colab": {
          "base_uri": "https://localhost:8080/"
        },
        "id": "7NBELNdH7Hto",
        "outputId": "db155274-4acc-46a3-917b-21d4a103e83c"
      },
      "source": [
        "model.fit([x_train, x_train],y_train,batch_size = 128 ,epochs = 10)"
      ],
      "execution_count": null,
      "outputs": [
        {
          "output_type": "stream",
          "text": [
            "Epoch 1/10\n",
            "469/469 [==============================] - 54s 105ms/step - loss: 0.6839 - accuracy: 0.8352\n",
            "Epoch 2/10\n",
            "469/469 [==============================] - 50s 107ms/step - loss: 0.0455 - accuracy: 0.9861\n",
            "Epoch 3/10\n",
            "469/469 [==============================] - 51s 109ms/step - loss: 0.0327 - accuracy: 0.9900\n",
            "Epoch 4/10\n",
            "469/469 [==============================] - 51s 108ms/step - loss: 0.0278 - accuracy: 0.9921\n",
            "Epoch 5/10\n",
            "469/469 [==============================] - 51s 108ms/step - loss: 0.0256 - accuracy: 0.9924\n",
            "Epoch 6/10\n",
            "469/469 [==============================] - 51s 108ms/step - loss: 0.0205 - accuracy: 0.9938\n",
            "Epoch 7/10\n",
            "469/469 [==============================] - 51s 108ms/step - loss: 0.0207 - accuracy: 0.9936\n",
            "Epoch 8/10\n",
            "469/469 [==============================] - 51s 108ms/step - loss: 0.0187 - accuracy: 0.9941\n",
            "Epoch 9/10\n",
            "469/469 [==============================] - 51s 108ms/step - loss: 0.0196 - accuracy: 0.9943\n",
            "Epoch 10/10\n",
            "469/469 [==============================] - 51s 108ms/step - loss: 0.0188 - accuracy: 0.9946\n"
          ],
          "name": "stdout"
        },
        {
          "output_type": "execute_result",
          "data": {
            "text/plain": [
              "<tensorflow.python.keras.callbacks.History at 0x7f5be018f470>"
            ]
          },
          "metadata": {
            "tags": []
          },
          "execution_count": 11
        }
      ]
    },
    {
      "cell_type": "code",
      "metadata": {
        "colab": {
          "base_uri": "https://localhost:8080/"
        },
        "id": "Mpzt5eXT7OMD",
        "outputId": "e87f219e-8714-4d2d-cc99-bcb1c89d3cb1"
      },
      "source": [
        "loss,acc = model.evaluate([x_test,x_test],y_test,batch_size = 128)"
      ],
      "execution_count": null,
      "outputs": [
        {
          "output_type": "stream",
          "text": [
            "79/79 [==============================] - 3s 31ms/step - loss: 0.0546 - accuracy: 0.9904\n"
          ],
          "name": "stdout"
        }
      ]
    },
    {
      "cell_type": "code",
      "metadata": {
        "id": "Zi5EXpiq-f9x"
      },
      "source": [
        ""
      ],
      "execution_count": null,
      "outputs": []
    }
  ]
}