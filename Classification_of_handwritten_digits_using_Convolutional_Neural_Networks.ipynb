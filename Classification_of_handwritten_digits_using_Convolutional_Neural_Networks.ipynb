{
  "nbformat": 4,
  "nbformat_minor": 0,
  "metadata": {
    "colab": {
      "name": "Classification of handwritten digits using Convolutional Neural Networks",
      "provenance": [],
      "authorship_tag": "ABX9TyN13xQA1HB0X5i551PEyGv3",
      "include_colab_link": true
    },
    "kernelspec": {
      "name": "python3",
      "display_name": "Python 3"
    }
  },
  "cells": [
    {
      "cell_type": "markdown",
      "metadata": {
        "id": "view-in-github",
        "colab_type": "text"
      },
      "source": [
        "<a href=\"https://colab.research.google.com/github/Mohit501/MNIST-Digits-Classification/blob/main/Classification_of_handwritten_digits_using_Convolutional_Neural_Networks.ipynb\" target=\"_parent\"><img src=\"https://colab.research.google.com/assets/colab-badge.svg\" alt=\"Open In Colab\"/></a>"
      ]
    },
    {
      "cell_type": "markdown",
      "metadata": {
        "id": "u1bLCUXkc07L"
      },
      "source": [
        "## **Loading and PreProcessing data**"
      ]
    },
    {
      "cell_type": "code",
      "metadata": {
        "id": "nKt-qW7tr6zi"
      },
      "source": [
        "import numpy as np\n",
        "import pandas as pd\n",
        "import matplotlib.pyplot as plt\n",
        "import tensorflow as tf\n",
        "from tensorflow import keras\n",
        "from keras.models import Sequential\n",
        "from keras.utils import to_categorical,plot_model\n",
        "from keras.layers import Dense,Dropout,Conv2D,MaxPooling2D,Flatten"
      ],
      "execution_count": null,
      "outputs": []
    },
    {
      "cell_type": "code",
      "metadata": {
        "id": "u94ySjG5sHsV"
      },
      "source": [
        "mnist = tf.keras.datasets.mnist"
      ],
      "execution_count": null,
      "outputs": []
    },
    {
      "cell_type": "code",
      "metadata": {
        "id": "9KKnR53xsLwv"
      },
      "source": [
        "(X_train,y_train),(X_test,y_test) = mnist.load_data()"
      ],
      "execution_count": null,
      "outputs": []
    },
    {
      "cell_type": "code",
      "metadata": {
        "colab": {
          "base_uri": "https://localhost:8080/"
        },
        "id": "KanhgtT6sR9Z",
        "outputId": "734c8c41-ec34-4ef3-d9e3-71791b27b910"
      },
      "source": [
        "X_train.shape"
      ],
      "execution_count": null,
      "outputs": [
        {
          "output_type": "execute_result",
          "data": {
            "text/plain": [
              "(60000, 28, 28)"
            ]
          },
          "metadata": {
            "tags": []
          },
          "execution_count": 4
        }
      ]
    },
    {
      "cell_type": "code",
      "metadata": {
        "colab": {
          "base_uri": "https://localhost:8080/"
        },
        "id": "ajFxpU-asUiL",
        "outputId": "f06e14b3-5a5d-4756-a100-fe1e244ed09f"
      },
      "source": [
        "y_train.shape"
      ],
      "execution_count": null,
      "outputs": [
        {
          "output_type": "execute_result",
          "data": {
            "text/plain": [
              "(60000,)"
            ]
          },
          "metadata": {
            "tags": []
          },
          "execution_count": 5
        }
      ]
    },
    {
      "cell_type": "code",
      "metadata": {
        "colab": {
          "base_uri": "https://localhost:8080/"
        },
        "id": "2bod3k5rlEmi",
        "outputId": "fbf3473f-55bb-4eba-c1ec-fbdc25cd67ef"
      },
      "source": [
        "X_test.shape"
      ],
      "execution_count": null,
      "outputs": [
        {
          "output_type": "execute_result",
          "data": {
            "text/plain": [
              "(10000, 28, 28)"
            ]
          },
          "metadata": {
            "tags": []
          },
          "execution_count": 6
        }
      ]
    },
    {
      "cell_type": "code",
      "metadata": {
        "id": "zfRoUzGCK8Mb"
      },
      "source": [
        "y_train = tf.one_hot(y_train, 10)\n",
        "Y_test = tf.one_hot(y_test, 10)"
      ],
      "execution_count": null,
      "outputs": []
    },
    {
      "cell_type": "code",
      "metadata": {
        "id": "CKxL6qv5dWBS"
      },
      "source": [
        "X_train = X_train/255.0\r\n",
        "X_test = X_test/255.0"
      ],
      "execution_count": null,
      "outputs": []
    },
    {
      "cell_type": "code",
      "metadata": {
        "colab": {
          "base_uri": "https://localhost:8080/",
          "height": 609
        },
        "id": "iTPyl1qvtbQC",
        "outputId": "97b84e93-1119-4eab-d2b3-1d81bf01978c"
      },
      "source": [
        "plt.figure(figsize = (25,10))\r\n",
        "plt.imshow(X_train[45],cmap = 'gray')"
      ],
      "execution_count": null,
      "outputs": [
        {
          "output_type": "execute_result",
          "data": {
            "text/plain": [
              "<matplotlib.image.AxesImage at 0x7fdcde56be48>"
            ]
          },
          "metadata": {
            "tags": []
          },
          "execution_count": 9
        },
        {
          "output_type": "display_data",
          "data": {
            "image/png": "[encoded data removed]",
            "text/plain": [
              "<Figure size 1800x720 with 1 Axes>"
            ]
          },
          "metadata": {
            "tags": [],
            "needs_background": "light"
          }
        }
      ]
    },
    {
      "cell_type": "markdown",
      "metadata": {
        "id": "trg9GQofectC"
      },
      "source": [
        "## **Building Convolutional Neural Network**"
      ]
    },
    {
      "cell_type": "code",
      "metadata": {
        "id": "uqy8pRKCtiPq"
      },
      "source": [
        "X_train = X_train.reshape(60000,28,28,1)\r\n",
        "X_test = X_test.reshape(10000,28,28,1)"
      ],
      "execution_count": null,
      "outputs": []
    },
    {
      "cell_type": "code",
      "metadata": {
        "id": "VadwpQGCdi1H"
      },
      "source": [
        "model = Sequential()\r\n",
        "model.add(Conv2D(filters = 64,kernel_size = (2,2),activation = 'relu',input_shape = (28,28,1)))\r\n",
        "model.add(MaxPooling2D(pool_size = (2,2)))\r\n",
        "\r\n",
        "model.add(Conv2D(filters = 64,kernel_size = (2,2),activation = 'relu'))\r\n",
        "model.add(MaxPooling2D(pool_size = (2,2)))\r\n",
        "\r\n",
        "model.add(Conv2D(64,kernel_size = (2,2),activation = 'relu'))\r\n",
        "\r\n",
        "model.add(Dropout(0.2))\r\n",
        "model.add(Flatten())\r\n",
        "\r\n",
        "\r\n",
        "model.add(Dense(64,activation = 'relu'))\r\n",
        "\r\n",
        "model.add(Dense(10,activation = 'softmax'))\r\n",
        "  "
      ],
      "execution_count": null,
      "outputs": []
    },
    {
      "cell_type": "code",
      "metadata": {
        "colab": {
          "base_uri": "https://localhost:8080/",
          "height": 953
        },
        "id": "1swaA77znzHL",
        "outputId": "4081ba22-b002-4f64-9f51-9947f4ad1936"
      },
      "source": [
        "plot_model(model)"
      ],
      "execution_count": null,
      "outputs": [
        {
          "output_type": "execute_result",
          "data": {
            "image/png": "[encoded data removed]",
            "text/plain": [
              "<IPython.core.display.Image object>"
            ]
          },
          "metadata": {
            "tags": []
          },
          "execution_count": 12
        }
      ]
    },
    {
      "cell_type": "code",
      "metadata": {
        "id": "s6uoTo61jEQy"
      },
      "source": [
        "model.compile(optimizer='adam',loss = 'categorical_crossentropy',metrics=['accuracy'])"
      ],
      "execution_count": null,
      "outputs": []
    },
    {
      "cell_type": "code",
      "metadata": {
        "colab": {
          "base_uri": "https://localhost:8080/"
        },
        "id": "hmtfHyjejpCi",
        "outputId": "ae84fb65-f315-4858-cc38-f684140567fd"
      },
      "source": [
        "model.fit(X_train,y_train,epochs = 10,batch_size=128)"
      ],
      "execution_count": null,
      "outputs": [
        {
          "output_type": "stream",
          "text": [
            "Epoch 1/10\n",
            "469/469 [==============================] - 56s 117ms/step - loss: 0.5718 - accuracy: 0.8253\n",
            "Epoch 2/10\n",
            "469/469 [==============================] - 55s 118ms/step - loss: 0.0723 - accuracy: 0.9785\n",
            "Epoch 3/10\n",
            "469/469 [==============================] - 55s 118ms/step - loss: 0.0492 - accuracy: 0.9849\n",
            "Epoch 4/10\n",
            "469/469 [==============================] - 55s 118ms/step - loss: 0.0397 - accuracy: 0.9872\n",
            "Epoch 5/10\n",
            "469/469 [==============================] - 55s 118ms/step - loss: 0.0305 - accuracy: 0.9899\n",
            "Epoch 6/10\n",
            "469/469 [==============================] - 56s 119ms/step - loss: 0.0255 - accuracy: 0.9918\n",
            "Epoch 7/10\n",
            "469/469 [==============================] - 55s 118ms/step - loss: 0.0224 - accuracy: 0.9929\n",
            "Epoch 8/10\n",
            "469/469 [==============================] - 55s 118ms/step - loss: 0.0194 - accuracy: 0.9936\n",
            "Epoch 9/10\n",
            "469/469 [==============================] - 55s 117ms/step - loss: 0.0184 - accuracy: 0.9941\n",
            "Epoch 10/10\n",
            "469/469 [==============================] - 55s 118ms/step - loss: 0.0152 - accuracy: 0.9948\n"
          ],
          "name": "stdout"
        },
        {
          "output_type": "execute_result",
          "data": {
            "text/plain": [
              "<tensorflow.python.keras.callbacks.History at 0x7fdcdd72b470>"
            ]
          },
          "metadata": {
            "tags": []
          },
          "execution_count": 14
        }
      ]
    },
    {
      "cell_type": "code",
      "metadata": {
        "colab": {
          "base_uri": "https://localhost:8080/"
        },
        "id": "QDdJoQzxqkua",
        "outputId": "ea8e2dad-b181-4847-cca2-de3f22d7f756"
      },
      "source": [
        "loss,acc = model.evaluate(X_test,Y_test,batch_size=128)"
      ],
      "execution_count": null,
      "outputs": [
        {
          "output_type": "stream",
          "text": [
            "79/79 [==============================] - 3s 33ms/step - loss: 0.0273 - accuracy: 0.9930\n"
          ],
          "name": "stdout"
        }
      ]
    },
    {
      "cell_type": "code",
      "metadata": {
        "colab": {
          "base_uri": "https://localhost:8080/"
        },
        "id": "lc2Bi1K-qlES",
        "outputId": "7d164abd-8b14-45c7-ecab-767f52a210a8"
      },
      "source": [
        "print('Loss on test data is:',loss)\r\n"
      ],
      "execution_count": null,
      "outputs": [
        {
          "output_type": "stream",
          "text": [
            "Loss on test data is: 0.02733916975557804\n"
          ],
          "name": "stdout"
        }
      ]
    },
    {
      "cell_type": "code",
      "metadata": {
        "colab": {
          "base_uri": "https://localhost:8080/"
        },
        "id": "z7tPgw3SrHFK",
        "outputId": "8c569722-46ae-4bd6-ffc7-984ea8d3f78d"
      },
      "source": [
        "print('test accuracy is:',acc*100)"
      ],
      "execution_count": null,
      "outputs": [
        {
          "output_type": "stream",
          "text": [
            "test accuracy is: 99.29999709129333\n"
          ],
          "name": "stdout"
        }
      ]
    },
    {
      "cell_type": "code",
      "metadata": {
        "id": "fflqqTWCrL08"
      },
      "source": [
        ""
      ],
      "execution_count": null,
      "outputs": []
    }
  ]
}