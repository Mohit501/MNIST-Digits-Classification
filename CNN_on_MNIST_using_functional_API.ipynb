{
  "nbformat": 4,
  "nbformat_minor": 0,
  "metadata": {
    "colab": {
      "name": "CNN on MNIST using functional API",
      "provenance": [],
      "authorship_tag": "ABX9TyNld+Iugkh30PtX5FuVi7Wa",
      "include_colab_link": true
    },
    "kernelspec": {
      "name": "python3",
      "display_name": "Python 3"
    },
    "accelerator": "GPU"
  },
  "cells": [
    {
      "cell_type": "markdown",
      "metadata": {
        "id": "view-in-github",
        "colab_type": "text"
      },
      "source": [
        "<a href=\"https://colab.research.google.com/github/Mohit501/MNIST-Digits-Classification/blob/main/CNN_on_MNIST_using_functional_API.ipynb\" target=\"_parent\"><img src=\"https://colab.research.google.com/assets/colab-badge.svg\" alt=\"Open In Colab\"/></a>"
      ]
    },
    {
      "cell_type": "markdown",
      "metadata": {
        "id": "4uxvCcr0s0JI"
      },
      "source": [
        "# **Loading Required Libraries**"
      ]
    },
    {
      "cell_type": "code",
      "metadata": {
        "id": "Eb-bkt1xsg6_"
      },
      "source": [
        "import numpy as np\r\n",
        "from tensorflow import keras \r\n",
        "from keras.models import Model\r\n",
        "from keras.layers import Dense,Conv2D,MaxPooling2D,Flatten,Dropout,Input\r\n",
        "from keras.utils import to_categorical\r\n",
        "from keras.datasets import mnist"
      ],
      "execution_count": null,
      "outputs": []
    },
    {
      "cell_type": "markdown",
      "metadata": {
        "id": "yucaFGPPtv-M"
      },
      "source": [
        "# **Loading Data**"
      ]
    },
    {
      "cell_type": "code",
      "metadata": {
        "id": "uqy8pRKCtiPq"
      },
      "source": [
        "(X_train,y_train),(X_test,y_test) = mnist.load_data()"
      ],
      "execution_count": null,
      "outputs": []
    },
    {
      "cell_type": "code",
      "metadata": {
        "id": "lDw-1J4Tt1is"
      },
      "source": [
        "num_labels = len(np.unique(y_train))"
      ],
      "execution_count": null,
      "outputs": []
    },
    {
      "cell_type": "markdown",
      "metadata": {
        "id": "pEShWiX9t8Tw"
      },
      "source": [
        "# **PreProcessing**"
      ]
    },
    {
      "cell_type": "code",
      "metadata": {
        "id": "EPJEvmuAt7Dw"
      },
      "source": [
        "y_train = to_categorical(y_train)\r\n",
        "y_test = to_categorical(y_test)"
      ],
      "execution_count": null,
      "outputs": []
    },
    {
      "cell_type": "markdown",
      "metadata": {
        "id": "P7o5XVcuuGuu"
      },
      "source": [
        "**Reshaping and Normalizing input images**"
      ]
    },
    {
      "cell_type": "code",
      "metadata": {
        "id": "YH1DcwhcuEXf"
      },
      "source": [
        "image_size = X_train.shape[1]\r\n",
        "x_train = np.reshape(X_train,[-1,image_size,image_size,1])\r\n",
        "x_train = x_train.astype('float32')/255.0\r\n",
        "x_test = np.reshape(X_test,[-1,image_size,image_size,1])\r\n",
        "x_test = x_test.astype('float32')/255.0"
      ],
      "execution_count": null,
      "outputs": []
    },
    {
      "cell_type": "markdown",
      "metadata": {
        "id": "gsrprTZwuk1u"
      },
      "source": [
        "## **Convolutional Neural Network using Functional API**"
      ]
    },
    {
      "cell_type": "code",
      "metadata": {
        "id": "Yq2_lnJWujWp"
      },
      "source": [
        "input_shape = (image_size,image_size,1)"
      ],
      "execution_count": null,
      "outputs": []
    },
    {
      "cell_type": "code",
      "metadata": {
        "colab": {
          "base_uri": "https://localhost:8080/"
        },
        "id": "qnRCCKZcux8x",
        "outputId": "dd0eb69a-25e4-47f3-87a7-a5f59cc78d83"
      },
      "source": [
        "inputs = Input(shape = input_shape)\r\n",
        "y = Conv2D(filters = 64,kernel_size=3,activation = 'relu')(inputs)\r\n",
        "y = MaxPooling2D()(y)\r\n",
        "y = Conv2D(filters = 64,kernel_size=3,activation = 'relu')(y)\r\n",
        "y = MaxPooling2D()(y)\r\n",
        "y = Conv2D(filters = 64,kernel_size=3,activation = 'relu')(y)\r\n",
        "y = Flatten()(y)\r\n",
        "y = Dropout(0.3)(y)\r\n",
        "outputs = Dense(num_labels,activation='softmax')(y)\r\n",
        "model = Model(inputs = inputs,outputs=outputs)\r\n",
        "model.summary()\r\n"
      ],
      "execution_count": null,
      "outputs": [
        {
          "output_type": "stream",
          "text": [
            "Model: \"model\"\n",
            "_________________________________________________________________\n",
            "Layer (type)                 Output Shape              Param #   \n",
            "=================================================================\n",
            "input_1 (InputLayer)         [(None, 28, 28, 1)]       0         \n",
            "_________________________________________________________________\n",
            "conv2d (Conv2D)              (None, 26, 26, 64)        640       \n",
            "_________________________________________________________________\n",
            "max_pooling2d (MaxPooling2D) (None, 13, 13, 64)        0         \n",
            "_________________________________________________________________\n",
            "conv2d_1 (Conv2D)            (None, 11, 11, 64)        36928     \n",
            "_________________________________________________________________\n",
            "max_pooling2d_1 (MaxPooling2 (None, 5, 5, 64)          0         \n",
            "_________________________________________________________________\n",
            "conv2d_2 (Conv2D)            (None, 3, 3, 64)          36928     \n",
            "_________________________________________________________________\n",
            "flatten (Flatten)            (None, 576)               0         \n",
            "_________________________________________________________________\n",
            "dropout (Dropout)            (None, 576)               0         \n",
            "_________________________________________________________________\n",
            "dense (Dense)                (None, 10)                5770      \n",
            "=================================================================\n",
            "Total params: 80,266\n",
            "Trainable params: 80,266\n",
            "Non-trainable params: 0\n",
            "_________________________________________________________________\n"
          ],
          "name": "stdout"
        }
      ]
    },
    {
      "cell_type": "code",
      "metadata": {
        "id": "MOUobRMhvhpy"
      },
      "source": [
        "model.compile(optimizer='adam',loss = 'categorical_crossentropy',metrics = ['accuracy'])"
      ],
      "execution_count": null,
      "outputs": []
    },
    {
      "cell_type": "code",
      "metadata": {
        "colab": {
          "base_uri": "https://localhost:8080/"
        },
        "id": "aO-T7pQ_v0rn",
        "outputId": "0d3e9b7a-22a9-4ea1-fa3a-7d5a87c529dd"
      },
      "source": [
        "model.fit(x_train,y_train,batch_size = 128,epochs = 10)"
      ],
      "execution_count": null,
      "outputs": [
        {
          "output_type": "stream",
          "text": [
            "Epoch 1/10\n",
            "469/469 [==============================] - 5s 5ms/step - loss: 0.6253 - accuracy: 0.7984\n",
            "Epoch 2/10\n",
            "469/469 [==============================] - 2s 5ms/step - loss: 0.0859 - accuracy: 0.9742\n",
            "Epoch 3/10\n",
            "469/469 [==============================] - 2s 5ms/step - loss: 0.0601 - accuracy: 0.9811\n",
            "Epoch 4/10\n",
            "469/469 [==============================] - 2s 5ms/step - loss: 0.0448 - accuracy: 0.9857\n",
            "Epoch 5/10\n",
            "469/469 [==============================] - 2s 5ms/step - loss: 0.0388 - accuracy: 0.9879\n",
            "Epoch 6/10\n",
            "469/469 [==============================] - 2s 5ms/step - loss: 0.0318 - accuracy: 0.9899\n",
            "Epoch 7/10\n",
            "469/469 [==============================] - 2s 5ms/step - loss: 0.0277 - accuracy: 0.9907\n",
            "Epoch 8/10\n",
            "469/469 [==============================] - 2s 5ms/step - loss: 0.0243 - accuracy: 0.9923\n",
            "Epoch 9/10\n",
            "469/469 [==============================] - 2s 5ms/step - loss: 0.0226 - accuracy: 0.9930\n",
            "Epoch 10/10\n",
            "469/469 [==============================] - 2s 5ms/step - loss: 0.0205 - accuracy: 0.9934\n"
          ],
          "name": "stdout"
        },
        {
          "output_type": "execute_result",
          "data": {
            "text/plain": [
              "<tensorflow.python.keras.callbacks.History at 0x7f33ec3f3518>"
            ]
          },
          "metadata": {
            "tags": []
          },
          "execution_count": 9
        }
      ]
    },
    {
      "cell_type": "code",
      "metadata": {
        "colab": {
          "base_uri": "https://localhost:8080/"
        },
        "id": "V1xrm8H-v542",
        "outputId": "bc7d1569-9ad1-4906-f8e0-8fdff436c4b6"
      },
      "source": [
        "loss,acc = model.evaluate(x_test,y_test,batch_size=128)"
      ],
      "execution_count": null,
      "outputs": [
        {
          "output_type": "stream",
          "text": [
            "79/79 [==============================] - 0s 3ms/step - loss: 0.0255 - accuracy: 0.9927\n"
          ],
          "name": "stdout"
        }
      ]
    },
    {
      "cell_type": "code",
      "metadata": {
        "colab": {
          "base_uri": "https://localhost:8080/"
        },
        "id": "hLzt9YMCwTrJ",
        "outputId": "8d3bf064-8494-48f8-a843-bdaabdcb3ac0"
      },
      "source": [
        "print('loss in test data:',loss)\r\n"
      ],
      "execution_count": null,
      "outputs": [
        {
          "output_type": "stream",
          "text": [
            "loss in test data: 0.025503212586045265\n"
          ],
          "name": "stdout"
        }
      ]
    },
    {
      "cell_type": "code",
      "metadata": {
        "colab": {
          "base_uri": "https://localhost:8080/"
        },
        "id": "KZDBLYzAwa3f",
        "outputId": "1f789c31-0d4c-423b-83fd-334249346f65"
      },
      "source": [
        "print(\"test accuracy:\",acc*100)"
      ],
      "execution_count": null,
      "outputs": [
        {
          "output_type": "stream",
          "text": [
            "test accuracy: 99.26999807357788\n"
          ],
          "name": "stdout"
        }
      ]
    },
    {
      "cell_type": "code",
      "metadata": {
        "id": "8B2gJ6iPwiMV"
      },
      "source": [
        ""
      ],
      "execution_count": null,
      "outputs": []
    }
  ]
}