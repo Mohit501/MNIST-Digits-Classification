{
  "nbformat": 4,
  "nbformat_minor": 0,
  "metadata": {
    "colab": {
      "name": "Multi Layer Perceptrons (MLP)",
      "provenance": [],
      "authorship_tag": "ABX9TyMM2TpzZIlidFQNnbFtfGkI",
      "include_colab_link": true
    },
    "kernelspec": {
      "display_name": "Python 3",
      "name": "python3"
    }
  },
  "cells": [
    {
      "cell_type": "markdown",
      "metadata": {
        "id": "view-in-github",
        "colab_type": "text"
      },
      "source": [
        "<a href=\"https://colab.research.google.com/github/Mohit501/MNIST-Digits-Classification/blob/main/Mnist_Classification_Using_Multi_Layer_Perceptrons_(MLP).ipynb\" target=\"_parent\"><img src=\"https://colab.research.google.com/assets/colab-badge.svg\" alt=\"Open In Colab\"/></a>"
      ]
    },
    {
      "cell_type": "markdown",
      "metadata": {
        "id": "bItQd3lpPSTv"
      },
      "source": [
        "## **Required Libraries**"
      ]
    },
    {
      "cell_type": "code",
      "metadata": {
        "id": "Mp66OZjqIkbW"
      },
      "source": [
        "import numpy as np\r\n",
        "from tensorflow import keras\r\n",
        "from keras.models import Sequential\r\n",
        "from keras.layers import Dense,Dropout\r\n",
        "from keras.utils import to_categorical,plot_model\r\n",
        "from keras.datasets import mnist"
      ],
      "execution_count": null,
      "outputs": []
    },
    {
      "cell_type": "markdown",
      "metadata": {
        "id": "-Pm4RPMrPYR1"
      },
      "source": [
        "## **Loading Data**"
      ]
    },
    {
      "cell_type": "code",
      "metadata": {
        "id": "c7DpLWxQPbHM",
        "colab": {
          "base_uri": "https://localhost:8080/"
        },
        "outputId": "bcda29d0-a25b-49ee-e663-103ce68f9cca"
      },
      "source": [
        "(x_train,y_train),(x_test,y_test) = mnist.load_data()"
      ],
      "execution_count": null,
      "outputs": [
        {
          "output_type": "stream",
          "text": [
            "Downloading data from https://storage.googleapis.com/tensorflow/tf-keras-datasets/mnist.npz\n",
            "11493376/11490434 [==============================] - 0s 0us/step\n"
          ],
          "name": "stdout"
        }
      ]
    },
    {
      "cell_type": "markdown",
      "metadata": {
        "id": "PNc7AmYeQHnY"
      },
      "source": [
        "# **Pre-Processing**"
      ]
    },
    {
      "cell_type": "markdown",
      "metadata": {
        "id": "A4OjMxnhPnFw"
      },
      "source": [
        "**Computing number of labels**"
      ]
    },
    {
      "cell_type": "code",
      "metadata": {
        "id": "iqDqJvmkPlrD"
      },
      "source": [
        "num_labels = len(np.unique(y_train))"
      ],
      "execution_count": null,
      "outputs": []
    },
    {
      "cell_type": "markdown",
      "metadata": {
        "id": "3-kTvxUdQFJA"
      },
      "source": [
        "**Converting to one-hot vector**"
      ]
    },
    {
      "cell_type": "code",
      "metadata": {
        "id": "V0hltZUSP6YS"
      },
      "source": [
        "y_train = to_categorical(y_train)\r\n",
        "y_test = to_categorical(y_test)"
      ],
      "execution_count": null,
      "outputs": []
    },
    {
      "cell_type": "markdown",
      "metadata": {
        "id": "2nlAWvH_RAG7"
      },
      "source": [
        "**Image Dimensions**"
      ]
    },
    {
      "cell_type": "code",
      "metadata": {
        "id": "4x-mKbKgQpeV"
      },
      "source": [
        "image_size = x_train.shape[1]\r\n",
        "input_size = image_size*image_size\r\n"
      ],
      "execution_count": null,
      "outputs": []
    },
    {
      "cell_type": "markdown",
      "metadata": {
        "id": "SR5b58IPRldo"
      },
      "source": [
        "**Resize and Normalize**"
      ]
    },
    {
      "cell_type": "code",
      "metadata": {
        "id": "Odede9JlRklK"
      },
      "source": [
        "x_train = np.reshape(x_train,[-1,input_size])\r\n",
        "x_train = x_train.astype('float32')/255.0\r\n",
        "x_test = np.reshape(x_test,[-1,input_size])\r\n",
        "x_test = x_test.astype('float32')/255.0"
      ],
      "execution_count": null,
      "outputs": []
    },
    {
      "cell_type": "code",
      "metadata": {
        "colab": {
          "base_uri": "https://localhost:8080/"
        },
        "id": "-zByaGSIR5fH",
        "outputId": "55804953-0bb7-4ddd-c040-0034a7d72824"
      },
      "source": [
        "x_train.shape"
      ],
      "execution_count": null,
      "outputs": [
        {
          "output_type": "execute_result",
          "data": {
            "text/plain": [
              "(60000, 784)"
            ]
          },
          "metadata": {
            "tags": []
          },
          "execution_count": 7
        }
      ]
    },
    {
      "cell_type": "code",
      "metadata": {
        "colab": {
          "base_uri": "https://localhost:8080/"
        },
        "id": "BAAzVT9TR6-n",
        "outputId": "b8a3b9f5-8bf9-4aee-b633-e2b4fc0cc3f5"
      },
      "source": [
        "x_test.shape"
      ],
      "execution_count": null,
      "outputs": [
        {
          "output_type": "execute_result",
          "data": {
            "text/plain": [
              "(10000, 784)"
            ]
          },
          "metadata": {
            "tags": []
          },
          "execution_count": 8
        }
      ]
    },
    {
      "cell_type": "markdown",
      "metadata": {
        "id": "JvCu5B2cSD7a"
      },
      "source": [
        "# **MLP Model**"
      ]
    },
    {
      "cell_type": "code",
      "metadata": {
        "colab": {
          "base_uri": "https://localhost:8080/"
        },
        "id": "DZyCWDDxSAEM",
        "outputId": "94201577-f5b8-48bb-c909-6b9737df53c3"
      },
      "source": [
        "model = Sequential()\r\n",
        "model.add(Dense(256,input_dim = input_size,activation='relu'))\r\n",
        "model.add(Dropout(0.45))\r\n",
        "model.add(Dense(256,activation='relu'))\r\n",
        "model.add(Dropout(0.45))\r\n",
        "model.add(Dense(num_labels,activation='softmax'))\r\n",
        "model.summary()\r\n"
      ],
      "execution_count": null,
      "outputs": [
        {
          "output_type": "stream",
          "text": [
            "Model: \"sequential\"\n",
            "_________________________________________________________________\n",
            "Layer (type)                 Output Shape              Param #   \n",
            "=================================================================\n",
            "dense (Dense)                (None, 256)               200960    \n",
            "_________________________________________________________________\n",
            "dropout (Dropout)            (None, 256)               0         \n",
            "_________________________________________________________________\n",
            "dense_1 (Dense)              (None, 256)               65792     \n",
            "_________________________________________________________________\n",
            "dropout_1 (Dropout)          (None, 256)               0         \n",
            "_________________________________________________________________\n",
            "dense_2 (Dense)              (None, 10)                2570      \n",
            "=================================================================\n",
            "Total params: 269,322\n",
            "Trainable params: 269,322\n",
            "Non-trainable params: 0\n",
            "_________________________________________________________________\n"
          ],
          "name": "stdout"
        }
      ]
    },
    {
      "cell_type": "code",
      "metadata": {
        "colab": {
          "base_uri": "https://localhost:8080/",
          "height": 644
        },
        "id": "TP_wW3SrSd5_",
        "outputId": "f910784c-ea35-447c-f75d-63ae6d8e9198"
      },
      "source": [
        "plot_model(model,show_shapes = True)"
      ],
      "execution_count": null,
      "outputs": [
        {
          "output_type": "execute_result",
          "data": {
            "image/png": "[encoded data removed]",
            "text/plain": [
              "<IPython.core.display.Image object>"
            ]
          },
          "metadata": {
            "tags": []
          },
          "execution_count": 10
        }
      ]
    },
    {
      "cell_type": "code",
      "metadata": {
        "id": "_S7WR5TTSoUt"
      },
      "source": [
        "model.compile(loss = 'categorical_crossentropy',optimizer='adam',metrics = ['accuracy'])"
      ],
      "execution_count": null,
      "outputs": []
    },
    {
      "cell_type": "code",
      "metadata": {
        "colab": {
          "base_uri": "https://localhost:8080/"
        },
        "id": "e9kXLXItSzPD",
        "outputId": "4fb7df19-05ae-4a72-b00a-6baf6406226c"
      },
      "source": [
        "model.fit(x_train,y_train,batch_size=128,epochs=20)"
      ],
      "execution_count": null,
      "outputs": [
        {
          "output_type": "stream",
          "text": [
            "Epoch 1/20\n",
            "469/469 [==============================] - 4s 8ms/step - loss: 0.7454 - accuracy: 0.7626\n",
            "Epoch 2/20\n",
            "469/469 [==============================] - 3s 7ms/step - loss: 0.2100 - accuracy: 0.9373\n",
            "Epoch 3/20\n",
            "469/469 [==============================] - 3s 7ms/step - loss: 0.1546 - accuracy: 0.9544\n",
            "Epoch 4/20\n",
            "469/469 [==============================] - 3s 7ms/step - loss: 0.1262 - accuracy: 0.9609\n",
            "Epoch 5/20\n",
            "469/469 [==============================] - 3s 7ms/step - loss: 0.1132 - accuracy: 0.9659\n",
            "Epoch 6/20\n",
            "469/469 [==============================] - 3s 7ms/step - loss: 0.1023 - accuracy: 0.9683\n",
            "Epoch 7/20\n",
            "469/469 [==============================] - 3s 7ms/step - loss: 0.0926 - accuracy: 0.9715\n",
            "Epoch 8/20\n",
            "469/469 [==============================] - 3s 7ms/step - loss: 0.0832 - accuracy: 0.9741\n",
            "Epoch 9/20\n",
            "469/469 [==============================] - 3s 7ms/step - loss: 0.0815 - accuracy: 0.9735\n",
            "Epoch 10/20\n",
            "469/469 [==============================] - 3s 7ms/step - loss: 0.0735 - accuracy: 0.9756\n",
            "Epoch 11/20\n",
            "469/469 [==============================] - 3s 7ms/step - loss: 0.0754 - accuracy: 0.9765\n",
            "Epoch 12/20\n",
            "469/469 [==============================] - 3s 7ms/step - loss: 0.0685 - accuracy: 0.9784\n",
            "Epoch 13/20\n",
            "469/469 [==============================] - 3s 7ms/step - loss: 0.0663 - accuracy: 0.9789\n",
            "Epoch 14/20\n",
            "469/469 [==============================] - 4s 8ms/step - loss: 0.0661 - accuracy: 0.9787\n",
            "Epoch 15/20\n",
            "469/469 [==============================] - 4s 8ms/step - loss: 0.0591 - accuracy: 0.9818\n",
            "Epoch 16/20\n",
            "469/469 [==============================] - 4s 8ms/step - loss: 0.0583 - accuracy: 0.9807\n",
            "Epoch 17/20\n",
            "469/469 [==============================] - 3s 7ms/step - loss: 0.0618 - accuracy: 0.9807\n",
            "Epoch 18/20\n",
            "469/469 [==============================] - 3s 7ms/step - loss: 0.0582 - accuracy: 0.9810\n",
            "Epoch 19/20\n",
            "469/469 [==============================] - 3s 7ms/step - loss: 0.0537 - accuracy: 0.9818\n",
            "Epoch 20/20\n",
            "469/469 [==============================] - 3s 7ms/step - loss: 0.0535 - accuracy: 0.9829\n"
          ],
          "name": "stdout"
        },
        {
          "output_type": "execute_result",
          "data": {
            "text/plain": [
              "<tensorflow.python.keras.callbacks.History at 0x7f18f0f13320>"
            ]
          },
          "metadata": {
            "tags": []
          },
          "execution_count": 12
        }
      ]
    },
    {
      "cell_type": "code",
      "metadata": {
        "colab": {
          "base_uri": "https://localhost:8080/"
        },
        "id": "8CHS7NbjS7Dt",
        "outputId": "46d70e23-c18e-4ef3-87c4-ef71ff55b365"
      },
      "source": [
        "loss,acc = model.evaluate(x_test,y_test,batch_size = 128)"
      ],
      "execution_count": null,
      "outputs": [
        {
          "output_type": "stream",
          "text": [
            "79/79 [==============================] - 0s 3ms/step - loss: 0.0683 - accuracy: 0.9813\n"
          ],
          "name": "stdout"
        }
      ]
    },
    {
      "cell_type": "code",
      "metadata": {
        "colab": {
          "base_uri": "https://localhost:8080/"
        },
        "id": "mbkzAGK3TbAa",
        "outputId": "0cef6ad6-0333-4b43-a1b4-a360fd044100"
      },
      "source": [
        "print(\" Model loss on test data is:\",loss)"
      ],
      "execution_count": null,
      "outputs": [
        {
          "output_type": "stream",
          "text": [
            " Model loss on test data is: 0.06834734976291656\n"
          ],
          "name": "stdout"
        }
      ]
    },
    {
      "cell_type": "code",
      "metadata": {
        "colab": {
          "base_uri": "https://localhost:8080/"
        },
        "id": "WvNlYkCVThxa",
        "outputId": "aa1a6690-554f-4280-d039-dc0b1b0e84f4"
      },
      "source": [
        "print(\"Accuracy on test data is:\",acc*100)"
      ],
      "execution_count": null,
      "outputs": [
        {
          "output_type": "stream",
          "text": [
            "Accuracy on test data is: 98.12999963760376\n"
          ],
          "name": "stdout"
        }
      ]
    },
    {
      "cell_type": "code",
      "metadata": {
        "colab": {
          "base_uri": "https://localhost:8080/"
        },
        "id": "owArfqE4TpSv",
        "outputId": "de41cf17-41d8-4f90-dea3-6910e14b87a2"
      },
      "source": [
        "model.predict(x_test)"
      ],
      "execution_count": null,
      "outputs": [
        {
          "output_type": "execute_result",
          "data": {
            "text/plain": [
              "array([[6.49082177e-11, 1.25863870e-08, 5.03597448e-07, ...,\n",
              "        9.99999046e-01, 1.69904313e-10, 2.23046726e-07],\n",
              "       [6.93281424e-13, 5.04976833e-06, 9.99994993e-01, ...,\n",
              "        5.60474800e-12, 9.76921669e-12, 5.63554181e-17],\n",
              "       [1.23760280e-10, 9.99997020e-01, 2.22448293e-07, ...,\n",
              "        2.46426680e-06, 2.29371810e-08, 1.00080486e-10],\n",
              "       ...,\n",
              "       [4.59502711e-15, 1.88729338e-10, 7.98631235e-13, ...,\n",
              "        8.29251778e-09, 1.15766407e-11, 2.38241242e-07],\n",
              "       [6.75748452e-14, 1.58909666e-14, 9.09514015e-16, ...,\n",
              "        1.32021857e-12, 6.58813804e-08, 1.63054927e-14],\n",
              "       [2.30903299e-14, 4.89229396e-16, 4.58331019e-14, ...,\n",
              "        6.59416088e-23, 1.15500930e-14, 7.51907177e-19]], dtype=float32)"
            ]
          },
          "metadata": {
            "tags": []
          },
          "execution_count": 16
        }
      ]
    },
    {
      "cell_type": "code",
      "metadata": {
        "colab": {
          "base_uri": "https://localhost:8080/"
        },
        "id": "UhOYP-TgC5NZ",
        "outputId": "fbc40464-b27b-40c0-e087-f49f40931caa"
      },
      "source": [
        "y_test"
      ],
      "execution_count": null,
      "outputs": [
        {
          "output_type": "execute_result",
          "data": {
            "text/plain": [
              "array([[0., 0., 0., ..., 1., 0., 0.],\n",
              "       [0., 0., 1., ..., 0., 0., 0.],\n",
              "       [0., 1., 0., ..., 0., 0., 0.],\n",
              "       ...,\n",
              "       [0., 0., 0., ..., 0., 0., 0.],\n",
              "       [0., 0., 0., ..., 0., 0., 0.],\n",
              "       [0., 0., 0., ..., 0., 0., 0.]], dtype=float32)"
            ]
          },
          "metadata": {
            "tags": []
          },
          "execution_count": 18
        }
      ]
    },
    {
      "cell_type": "code",
      "metadata": {
        "id": "HXPu2oQDC8nV"
      },
      "source": [
        " "
      ],
      "execution_count": null,
      "outputs": []
    }
  ]
}